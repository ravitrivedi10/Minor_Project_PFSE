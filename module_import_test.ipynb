{
 "cells": [
  {
   "cell_type": "code",
   "execution_count": 1,
   "id": "ba18970e-62b0-43a0-9c19-c808a8930205",
   "metadata": {},
   "outputs": [],
   "source": [
    "import calcs.anchorage_module"
   ]
  },
  {
   "cell_type": "code",
   "execution_count": 2,
   "id": "3278b7b6-a01a-449e-9b7f-503b1feafb1e",
   "metadata": {},
   "outputs": [
    {
     "data": {
      "text/latex": [
       "\\[\n",
       "\\begin{aligned}\n",
       "F_{p_{nom}} &= 0.4 \\cdot a_{p} \\cdot S_{ds} \\cdot \\frac{ 1 + 2 \\cdot \\left( \\frac{ z }{ h } \\right) }{ \\frac{ R_{p} }{ I_{p} } } \\\\&= 0.4 \\cdot 2.500 \\cdot 0.586 \\cdot \\frac{ 1 + 2 \\cdot \\left( \\frac{ 0 }{ 30 } \\right) }{ \\frac{ 2.500 }{ 1.000 } } \\\\&= 0.234  \\\\[10pt]\n",
       "\\\\[10pt]\n",
       "F_{p_{min}} &= 0.3 \\cdot S_{ds} \\cdot I_{p}  = 0.3 \\cdot 0.586 \\cdot 1.000 &= 0.176  \n",
       "\\\\[10pt]\n",
       "F_{p_{max}} &= 1.6 \\cdot S_{ds} \\cdot I_{p}  = 1.6 \\cdot 0.586 \\cdot 1.000 &= 0.938  \n",
       "\\\\[10pt]\n",
       "&\\text{Since, } F_{p_{min}} \\lt F_{p_{nom}} \\lt F_{p_{max}} \\rightarrow \\left( 0.176 \\lt 0.234 \\lt 0.938 \\right) :   \\\\[10pt]\n",
       "\\\\[10pt]\n",
       "F_{p} &= 0.234 \\; \n",
       "\\\\[10pt]\n",
       "F_{p} &= 0.234 \\; \n",
       "\\\\[10pt]\n",
       "F_{p} &= 0.234 \\; \n",
       "\\end{aligned}\n",
       "\\]"
      ],
      "text/plain": [
       "<IPython.core.display.Latex object>"
      ]
     },
     "metadata": {},
     "output_type": "display_data"
    },
    {
     "data": {
      "text/plain": [
       "0.2344"
      ]
     },
     "execution_count": 2,
     "metadata": {},
     "output_type": "execute_result"
    }
   ],
   "source": [
    "calcs.anchorage_module.seismic_design_force(2.5, 0.586, 0, 30, 2.5, 1.0)"
   ]
  },
  {
   "cell_type": "code",
   "execution_count": null,
   "id": "026cce1a-12ec-4622-b01f-9a085040ae8d",
   "metadata": {},
   "outputs": [],
   "source": []
  }
 ],
 "metadata": {
  "kernelspec": {
   "display_name": "Python 3 (ipykernel)",
   "language": "python",
   "name": "python3"
  },
  "language_info": {
   "codemirror_mode": {
    "name": "ipython",
    "version": 3
   },
   "file_extension": ".py",
   "mimetype": "text/x-python",
   "name": "python",
   "nbconvert_exporter": "python",
   "pygments_lexer": "ipython3",
   "version": "3.9.7"
  }
 },
 "nbformat": 4,
 "nbformat_minor": 5
}
